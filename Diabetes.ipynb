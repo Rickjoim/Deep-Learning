{
 "cells": [
  {
   "cell_type": "code",
   "execution_count": 21,
   "id": "0168a0b4",
   "metadata": {},
   "outputs": [],
   "source": [
    "# Import required libraries\n",
    "import pandas as pd\n",
    "import numpy as np \n",
    "import matplotlib.pyplot as plt\n",
    "import sklearn\n",
    "\n",
    "# Import necessary modules\n",
    "from sklearn.linear_model import LogisticRegression\n",
    "from sklearn.model_selection import train_test_split\n",
    "from sklearn.metrics import accuracy_score\n",
    "from sklearn.metrics import mean_squared_error\n",
    "from math import sqrt\n",
    "\n",
    "# Keras specific\n",
    "import keras\n",
    "from keras.models import Sequential\n",
    "from keras.layers import Dense\n",
    "from keras.utils import to_categorical "
   ]
  },
  {
   "cell_type": "code",
   "execution_count": 22,
   "id": "d0e3b5fd",
   "metadata": {},
   "outputs": [
    {
     "data": {
      "text/html": [
       "<div>\n",
       "<style scoped>\n",
       "    .dataframe tbody tr th:only-of-type {\n",
       "        vertical-align: middle;\n",
       "    }\n",
       "\n",
       "    .dataframe tbody tr th {\n",
       "        vertical-align: top;\n",
       "    }\n",
       "\n",
       "    .dataframe thead th {\n",
       "        text-align: right;\n",
       "    }\n",
       "</style>\n",
       "<table border=\"1\" class=\"dataframe\">\n",
       "  <thead>\n",
       "    <tr style=\"text-align: right;\">\n",
       "      <th></th>\n",
       "      <th>Diabetes_binary</th>\n",
       "      <th>HighBP</th>\n",
       "      <th>HighChol</th>\n",
       "      <th>CholCheck</th>\n",
       "      <th>BMI</th>\n",
       "      <th>Smoker</th>\n",
       "      <th>Stroke</th>\n",
       "      <th>HeartDiseaseorAttack</th>\n",
       "      <th>PhysActivity</th>\n",
       "      <th>Fruits</th>\n",
       "      <th>...</th>\n",
       "      <th>AnyHealthcare</th>\n",
       "      <th>NoDocbcCost</th>\n",
       "      <th>GenHlth</th>\n",
       "      <th>MentHlth</th>\n",
       "      <th>PhysHlth</th>\n",
       "      <th>DiffWalk</th>\n",
       "      <th>Sex</th>\n",
       "      <th>Age</th>\n",
       "      <th>Education</th>\n",
       "      <th>Income</th>\n",
       "    </tr>\n",
       "  </thead>\n",
       "  <tbody>\n",
       "    <tr>\n",
       "      <th>0</th>\n",
       "      <td>0.0</td>\n",
       "      <td>1.0</td>\n",
       "      <td>0.0</td>\n",
       "      <td>1.0</td>\n",
       "      <td>26.0</td>\n",
       "      <td>0.0</td>\n",
       "      <td>0.0</td>\n",
       "      <td>0.0</td>\n",
       "      <td>1.0</td>\n",
       "      <td>0.0</td>\n",
       "      <td>...</td>\n",
       "      <td>1.0</td>\n",
       "      <td>0.0</td>\n",
       "      <td>3.0</td>\n",
       "      <td>5.0</td>\n",
       "      <td>30.0</td>\n",
       "      <td>0.0</td>\n",
       "      <td>1.0</td>\n",
       "      <td>4.0</td>\n",
       "      <td>6.0</td>\n",
       "      <td>8.0</td>\n",
       "    </tr>\n",
       "    <tr>\n",
       "      <th>1</th>\n",
       "      <td>0.0</td>\n",
       "      <td>1.0</td>\n",
       "      <td>1.0</td>\n",
       "      <td>1.0</td>\n",
       "      <td>26.0</td>\n",
       "      <td>1.0</td>\n",
       "      <td>1.0</td>\n",
       "      <td>0.0</td>\n",
       "      <td>0.0</td>\n",
       "      <td>1.0</td>\n",
       "      <td>...</td>\n",
       "      <td>1.0</td>\n",
       "      <td>0.0</td>\n",
       "      <td>3.0</td>\n",
       "      <td>0.0</td>\n",
       "      <td>0.0</td>\n",
       "      <td>0.0</td>\n",
       "      <td>1.0</td>\n",
       "      <td>12.0</td>\n",
       "      <td>6.0</td>\n",
       "      <td>8.0</td>\n",
       "    </tr>\n",
       "    <tr>\n",
       "      <th>2</th>\n",
       "      <td>0.0</td>\n",
       "      <td>0.0</td>\n",
       "      <td>0.0</td>\n",
       "      <td>1.0</td>\n",
       "      <td>26.0</td>\n",
       "      <td>0.0</td>\n",
       "      <td>0.0</td>\n",
       "      <td>0.0</td>\n",
       "      <td>1.0</td>\n",
       "      <td>1.0</td>\n",
       "      <td>...</td>\n",
       "      <td>1.0</td>\n",
       "      <td>0.0</td>\n",
       "      <td>1.0</td>\n",
       "      <td>0.0</td>\n",
       "      <td>10.0</td>\n",
       "      <td>0.0</td>\n",
       "      <td>1.0</td>\n",
       "      <td>13.0</td>\n",
       "      <td>6.0</td>\n",
       "      <td>8.0</td>\n",
       "    </tr>\n",
       "    <tr>\n",
       "      <th>3</th>\n",
       "      <td>0.0</td>\n",
       "      <td>1.0</td>\n",
       "      <td>1.0</td>\n",
       "      <td>1.0</td>\n",
       "      <td>28.0</td>\n",
       "      <td>1.0</td>\n",
       "      <td>0.0</td>\n",
       "      <td>0.0</td>\n",
       "      <td>1.0</td>\n",
       "      <td>1.0</td>\n",
       "      <td>...</td>\n",
       "      <td>1.0</td>\n",
       "      <td>0.0</td>\n",
       "      <td>3.0</td>\n",
       "      <td>0.0</td>\n",
       "      <td>3.0</td>\n",
       "      <td>0.0</td>\n",
       "      <td>1.0</td>\n",
       "      <td>11.0</td>\n",
       "      <td>6.0</td>\n",
       "      <td>8.0</td>\n",
       "    </tr>\n",
       "    <tr>\n",
       "      <th>4</th>\n",
       "      <td>0.0</td>\n",
       "      <td>0.0</td>\n",
       "      <td>0.0</td>\n",
       "      <td>1.0</td>\n",
       "      <td>29.0</td>\n",
       "      <td>1.0</td>\n",
       "      <td>0.0</td>\n",
       "      <td>0.0</td>\n",
       "      <td>1.0</td>\n",
       "      <td>1.0</td>\n",
       "      <td>...</td>\n",
       "      <td>1.0</td>\n",
       "      <td>0.0</td>\n",
       "      <td>2.0</td>\n",
       "      <td>0.0</td>\n",
       "      <td>0.0</td>\n",
       "      <td>0.0</td>\n",
       "      <td>0.0</td>\n",
       "      <td>8.0</td>\n",
       "      <td>5.0</td>\n",
       "      <td>8.0</td>\n",
       "    </tr>\n",
       "  </tbody>\n",
       "</table>\n",
       "<p>5 rows × 22 columns</p>\n",
       "</div>"
      ],
      "text/plain": [
       "   Diabetes_binary  HighBP  HighChol  CholCheck   BMI  Smoker  Stroke  \\\n",
       "0              0.0     1.0       0.0        1.0  26.0     0.0     0.0   \n",
       "1              0.0     1.0       1.0        1.0  26.0     1.0     1.0   \n",
       "2              0.0     0.0       0.0        1.0  26.0     0.0     0.0   \n",
       "3              0.0     1.0       1.0        1.0  28.0     1.0     0.0   \n",
       "4              0.0     0.0       0.0        1.0  29.0     1.0     0.0   \n",
       "\n",
       "   HeartDiseaseorAttack  PhysActivity  Fruits  ...  AnyHealthcare  \\\n",
       "0                   0.0           1.0     0.0  ...            1.0   \n",
       "1                   0.0           0.0     1.0  ...            1.0   \n",
       "2                   0.0           1.0     1.0  ...            1.0   \n",
       "3                   0.0           1.0     1.0  ...            1.0   \n",
       "4                   0.0           1.0     1.0  ...            1.0   \n",
       "\n",
       "   NoDocbcCost  GenHlth  MentHlth  PhysHlth  DiffWalk  Sex   Age  Education  \\\n",
       "0          0.0      3.0       5.0      30.0       0.0  1.0   4.0        6.0   \n",
       "1          0.0      3.0       0.0       0.0       0.0  1.0  12.0        6.0   \n",
       "2          0.0      1.0       0.0      10.0       0.0  1.0  13.0        6.0   \n",
       "3          0.0      3.0       0.0       3.0       0.0  1.0  11.0        6.0   \n",
       "4          0.0      2.0       0.0       0.0       0.0  0.0   8.0        5.0   \n",
       "\n",
       "   Income  \n",
       "0     8.0  \n",
       "1     8.0  \n",
       "2     8.0  \n",
       "3     8.0  \n",
       "4     8.0  \n",
       "\n",
       "[5 rows x 22 columns]"
      ]
     },
     "execution_count": 22,
     "metadata": {},
     "output_type": "execute_result"
    }
   ],
   "source": [
    "df=pd.read_csv('../Rickson Lima\\Documents\\Conhecimento profundo\\diabetes_binary_5050split_health_indicators_BRFSS2015.csv')\n",
    "df.head()"
   ]
  },
  {
   "cell_type": "code",
   "execution_count": 23,
   "id": "c598a84b",
   "metadata": {},
   "outputs": [
    {
     "data": {
      "text/plain": [
       "(70692, 22)"
      ]
     },
     "execution_count": 23,
     "metadata": {},
     "output_type": "execute_result"
    }
   ],
   "source": [
    "df.shape"
   ]
  },
  {
   "cell_type": "code",
   "execution_count": 24,
   "id": "64438ba7",
   "metadata": {},
   "outputs": [
    {
     "data": {
      "text/plain": [
       "False    69057\n",
       "True      1635\n",
       "dtype: int64"
      ]
     },
     "execution_count": 24,
     "metadata": {},
     "output_type": "execute_result"
    }
   ],
   "source": [
    "# Duplicate values\n",
    "df.duplicated().value_counts()"
   ]
  },
  {
   "cell_type": "code",
   "execution_count": 25,
   "id": "0dc94ffd",
   "metadata": {},
   "outputs": [],
   "source": [
    "df.drop_duplicates(keep='first',inplace=True)"
   ]
  },
  {
   "cell_type": "code",
   "execution_count": 26,
   "id": "1c84da9b",
   "metadata": {},
   "outputs": [
    {
     "data": {
      "text/plain": [
       "False    69057\n",
       "dtype: int64"
      ]
     },
     "execution_count": 26,
     "metadata": {},
     "output_type": "execute_result"
    }
   ],
   "source": [
    "df.duplicated().value_counts()"
   ]
  },
  {
   "cell_type": "code",
   "execution_count": null,
   "id": "91952b5a",
   "metadata": {},
   "outputs": [],
   "source": [
    "# df.drop('Diabetes_binary', axis=1).corrwith(df.Diabetes_binary).plot(kind='bar', grid=True, figsize=(15, 6)\n",
    ", title=\"Correlação dos fatores com a Diabetes\",color=\"blue\");"
   ]
  },
  {
   "cell_type": "code",
   "execution_count": 28,
   "id": "98591586",
   "metadata": {},
   "outputs": [],
   "source": [
    "# Construindo o modelo\n",
    "X=df.drop('Diabetes_binary',axis=1)\n",
    "Y=df['Diabetes_binary']"
   ]
  },
  {
   "cell_type": "code",
   "execution_count": 29,
   "id": "5dc4a7c1",
   "metadata": {},
   "outputs": [
    {
     "name": "stdout",
     "output_type": "stream",
     "text": [
      "(48339, 21)\n",
      "(20718, 21)\n"
     ]
    }
   ],
   "source": [
    "X_train, X_test, y_train, y_test = train_test_split(X, Y, test_size=0.30, random_state=40)\n",
    "print(X_train.shape); print(X_test.shape)"
   ]
  },
  {
   "cell_type": "code",
   "execution_count": 30,
   "id": "ed31a0fb",
   "metadata": {},
   "outputs": [
    {
     "name": "stdout",
     "output_type": "stream",
     "text": [
      "2\n"
     ]
    }
   ],
   "source": [
    "# one hot encode outputs\n",
    "y_train = to_categorical(y_train)\n",
    "y_test = to_categorical(y_test)\n",
    "\n",
    "count_classes = y_test.shape[1]\n",
    "print(count_classes)"
   ]
  },
  {
   "cell_type": "code",
   "execution_count": 31,
   "id": "fda21253",
   "metadata": {},
   "outputs": [],
   "source": [
    "from imblearn.over_sampling import SMOTE\n",
    "sm = SMOTE(random_state=42)\n",
    "X_res, y_res = sm.fit_resample(X_train, y_train)"
   ]
  },
  {
   "cell_type": "code",
   "execution_count": 40,
   "id": "f4df08db",
   "metadata": {},
   "outputs": [],
   "source": [
    "model = Sequential()\n",
    "model.add(Dense(500, input_dim=21, activation='relu'))\n",
    "model.add(Dense(200, activation='relu'))\n",
    "model.add(Dense(100, activation='relu'))\n",
    "model.add(Dense(50, activation='relu'))\n",
    "model.add(Dense(2, activation='sigmoid'))\n",
    "\n",
    "# Compile the model\n",
    "model.compile(optimizer='adam', \n",
    "              loss='categorical_crossentropy', \n",
    "              metrics=['accuracy'])"
   ]
  },
  {
   "cell_type": "code",
   "execution_count": 41,
   "id": "83790a96",
   "metadata": {},
   "outputs": [
    {
     "name": "stdout",
     "output_type": "stream",
     "text": [
      "Epoch 1/50\n",
      "1511/1511 [==============================] - 4s 2ms/step - loss: 0.5479 - accuracy: 0.7210\n",
      "Epoch 2/50\n",
      "1511/1511 [==============================] - 3s 2ms/step - loss: 0.5274 - accuracy: 0.7370\n",
      "Epoch 3/50\n",
      "1511/1511 [==============================] - 3s 2ms/step - loss: 0.5243 - accuracy: 0.7387\n",
      "Epoch 4/50\n",
      "1511/1511 [==============================] - 3s 2ms/step - loss: 0.5214 - accuracy: 0.7400\n",
      "Epoch 5/50\n",
      "1511/1511 [==============================] - 3s 2ms/step - loss: 0.5193 - accuracy: 0.7421\n",
      "Epoch 6/50\n",
      "1511/1511 [==============================] - 3s 2ms/step - loss: 0.5178 - accuracy: 0.7443\n",
      "Epoch 7/50\n",
      "1511/1511 [==============================] - 3s 2ms/step - loss: 0.5163 - accuracy: 0.7442\n",
      "Epoch 8/50\n",
      "1511/1511 [==============================] - 3s 2ms/step - loss: 0.5144 - accuracy: 0.7442\n",
      "Epoch 9/50\n",
      "1511/1511 [==============================] - 3s 2ms/step - loss: 0.5147 - accuracy: 0.7453\n",
      "Epoch 10/50\n",
      "1511/1511 [==============================] - 3s 2ms/step - loss: 0.5131 - accuracy: 0.7460\n",
      "Epoch 11/50\n",
      "1511/1511 [==============================] - 3s 2ms/step - loss: 0.5128 - accuracy: 0.7454\n",
      "Epoch 12/50\n",
      "1511/1511 [==============================] - 3s 2ms/step - loss: 0.5125 - accuracy: 0.7448\n",
      "Epoch 13/50\n",
      "1511/1511 [==============================] - 3s 2ms/step - loss: 0.5123 - accuracy: 0.7467\n",
      "Epoch 14/50\n",
      "1511/1511 [==============================] - 3s 2ms/step - loss: 0.5109 - accuracy: 0.7486\n",
      "Epoch 15/50\n",
      "1511/1511 [==============================] - 3s 2ms/step - loss: 0.5111 - accuracy: 0.7472\n",
      "Epoch 16/50\n",
      "1511/1511 [==============================] - 3s 2ms/step - loss: 0.5108 - accuracy: 0.7480\n",
      "Epoch 17/50\n",
      "1511/1511 [==============================] - 3s 2ms/step - loss: 0.5105 - accuracy: 0.7479\n",
      "Epoch 18/50\n",
      "1511/1511 [==============================] - 3s 2ms/step - loss: 0.5104 - accuracy: 0.7475\n",
      "Epoch 19/50\n",
      "1511/1511 [==============================] - 3s 2ms/step - loss: 0.5096 - accuracy: 0.7502\n",
      "Epoch 20/50\n",
      "1511/1511 [==============================] - 3s 2ms/step - loss: 0.5094 - accuracy: 0.7484\n",
      "Epoch 21/50\n",
      "1511/1511 [==============================] - 3s 2ms/step - loss: 0.5090 - accuracy: 0.7490\n",
      "Epoch 22/50\n",
      "1511/1511 [==============================] - 3s 2ms/step - loss: 0.5086 - accuracy: 0.7488\n",
      "Epoch 23/50\n",
      "1511/1511 [==============================] - 3s 2ms/step - loss: 0.5077 - accuracy: 0.7488\n",
      "Epoch 24/50\n",
      "1511/1511 [==============================] - 3s 2ms/step - loss: 0.5079 - accuracy: 0.7493\n",
      "Epoch 25/50\n",
      "1511/1511 [==============================] - 3s 2ms/step - loss: 0.5071 - accuracy: 0.7493\n",
      "Epoch 26/50\n",
      "1511/1511 [==============================] - 3s 2ms/step - loss: 0.5075 - accuracy: 0.7484\n",
      "Epoch 27/50\n",
      "1511/1511 [==============================] - 3s 2ms/step - loss: 0.5083 - accuracy: 0.7485\n",
      "Epoch 28/50\n",
      "1511/1511 [==============================] - 3s 2ms/step - loss: 0.5075 - accuracy: 0.7500\n",
      "Epoch 29/50\n",
      "1511/1511 [==============================] - 3s 2ms/step - loss: 0.5072 - accuracy: 0.7508\n",
      "Epoch 30/50\n",
      "1511/1511 [==============================] - 3s 2ms/step - loss: 0.5066 - accuracy: 0.7507\n",
      "Epoch 31/50\n",
      "1511/1511 [==============================] - 3s 2ms/step - loss: 0.5068 - accuracy: 0.7501\n",
      "Epoch 32/50\n",
      "1511/1511 [==============================] - 3s 2ms/step - loss: 0.5070 - accuracy: 0.7505\n",
      "Epoch 33/50\n",
      "1511/1511 [==============================] - 3s 2ms/step - loss: 0.5067 - accuracy: 0.7504\n",
      "Epoch 34/50\n",
      "1511/1511 [==============================] - 3s 2ms/step - loss: 0.5065 - accuracy: 0.7498\n",
      "Epoch 35/50\n",
      "1511/1511 [==============================] - 3s 2ms/step - loss: 0.5060 - accuracy: 0.7503\n",
      "Epoch 36/50\n",
      "1511/1511 [==============================] - 3s 2ms/step - loss: 0.5060 - accuracy: 0.7500\n",
      "Epoch 37/50\n",
      "1511/1511 [==============================] - 3s 2ms/step - loss: 0.5058 - accuracy: 0.7511\n",
      "Epoch 38/50\n",
      "1511/1511 [==============================] - 3s 2ms/step - loss: 0.5054 - accuracy: 0.7519\n",
      "Epoch 39/50\n",
      "1511/1511 [==============================] - 3s 2ms/step - loss: 0.5053 - accuracy: 0.7515\n",
      "Epoch 40/50\n",
      "1511/1511 [==============================] - 3s 2ms/step - loss: 0.5052 - accuracy: 0.7507\n",
      "Epoch 41/50\n",
      "1511/1511 [==============================] - 3s 2ms/step - loss: 0.5045 - accuracy: 0.7521\n",
      "Epoch 42/50\n",
      "1511/1511 [==============================] - 3s 2ms/step - loss: 0.5051 - accuracy: 0.7512\n",
      "Epoch 43/50\n",
      "1511/1511 [==============================] - 3s 2ms/step - loss: 0.5044 - accuracy: 0.7532\n",
      "Epoch 44/50\n",
      "1511/1511 [==============================] - 3s 2ms/step - loss: 0.5041 - accuracy: 0.7514\n",
      "Epoch 45/50\n",
      "1511/1511 [==============================] - 3s 2ms/step - loss: 0.5044 - accuracy: 0.7515\n",
      "Epoch 46/50\n",
      "1511/1511 [==============================] - 3s 2ms/step - loss: 0.5039 - accuracy: 0.7509\n",
      "Epoch 47/50\n",
      "1511/1511 [==============================] - 3s 2ms/step - loss: 0.5038 - accuracy: 0.7532\n",
      "Epoch 48/50\n",
      "1511/1511 [==============================] - 3s 2ms/step - loss: 0.5040 - accuracy: 0.7541\n",
      "Epoch 49/50\n",
      "1511/1511 [==============================] - 3s 2ms/step - loss: 0.5041 - accuracy: 0.7526\n",
      "Epoch 50/50\n",
      "1511/1511 [==============================] - 3s 2ms/step - loss: 0.5030 - accuracy: 0.7525\n"
     ]
    },
    {
     "data": {
      "text/plain": [
       "<keras.callbacks.History at 0x260bfd4bfa0>"
      ]
     },
     "execution_count": 41,
     "metadata": {},
     "output_type": "execute_result"
    }
   ],
   "source": [
    "model.fit(X_train, y_train, epochs=50)"
   ]
  },
  {
   "cell_type": "code",
   "execution_count": 42,
   "id": "0225a866",
   "metadata": {},
   "outputs": [
    {
     "name": "stdout",
     "output_type": "stream",
     "text": [
      "Test loss: 0.514135479927063\n",
      "Test accuracy: 0.7456318140029907\n"
     ]
    }
   ],
   "source": [
    "score = model.evaluate(X_test, y_test, verbose=0)\n",
    "print(\"Test loss:\", score[0])\n",
    "print(\"Test accuracy:\", score[1])"
   ]
  },
  {
   "cell_type": "code",
   "execution_count": 43,
   "id": "536e4f33",
   "metadata": {},
   "outputs": [
    {
     "name": "stdout",
     "output_type": "stream",
     "text": [
      "1511/1511 [==============================] - 3s 2ms/step\n",
      "Accuracy on training data: 0.7555596828460693% \n",
      " Error on training data: 0.24444031715393066\n",
      "648/648 [==============================] - 2s 2ms/step\n",
      "Accuracy on test data: 0.7456318140029907% \n",
      " Error on test data: 0.2543681859970093\n"
     ]
    }
   ],
   "source": [
    "pred_train= model.predict(X_train)\n",
    "scores = model.evaluate(X_train, y_train, verbose=0)\n",
    "print('Accuracy on training data: {}% \\n Error on training data: {}'.format(scores[1], 1 - scores[1]))   \n",
    " \n",
    "pred_test= model.predict(X_test)\n",
    "scores2 = model.evaluate(X_test, y_test, verbose=0)\n",
    "print('Accuracy on test data: {}% \\n Error on test data: {}'.format(scores2[1], 1 - scores2[1]))    "
   ]
  },
  {
   "cell_type": "code",
   "execution_count": null,
   "id": "bd079008",
   "metadata": {},
   "outputs": [],
   "source": []
  }
 ],
 "metadata": {
  "kernelspec": {
   "display_name": "Python 3 (ipykernel)",
   "language": "python",
   "name": "python3"
  },
  "language_info": {
   "codemirror_mode": {
    "name": "ipython",
    "version": 3
   },
   "file_extension": ".py",
   "mimetype": "text/x-python",
   "name": "python",
   "nbconvert_exporter": "python",
   "pygments_lexer": "ipython3",
   "version": "3.9.13"
  }
 },
 "nbformat": 4,
 "nbformat_minor": 5
}
